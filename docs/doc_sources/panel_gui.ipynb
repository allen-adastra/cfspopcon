{
 "cells": [
  {
   "cell_type": "code",
   "execution_count": null,
   "metadata": {},
   "outputs": [],
   "source": [
    "import matplotlib.pyplot as plt\n",
    "import panel as pn\n",
    "\n",
    "pn.extension(template=\"fast\")\n",
    "pn.config.comms = \"ipywidgets\"\n",
    "import xarray as xr\n",
    "\n",
    "import cfspopcon\n",
    "from cfspopcon.unit_handling import ureg\n",
    "from cfspopcon.named_options import ConfinementScaling\n",
    "import yaml\n",
    "from typing import List\n",
    "import git\n",
    "\n",
    "PROJECT_NAME = \"SPRING_2024_2263\"\n",
    "PROJECT_DIR = f\"../../example_cases/{PROJECT_NAME}\"\n",
    "input_parameters, algorithm, points = cfspopcon.read_case(PROJECT_DIR)\n",
    "plot_style = cfspopcon.read_plot_style(f\"{PROJECT_DIR}/plot_popcon.yaml\")\n",
    "with open(f\"{PROJECT_DIR}/gui.yaml\", \"r\") as file:\n",
    "    gui_config = yaml.safe_load(file)\n",
    "\n",
    "algorithm.validate_inputs(input_parameters)\n",
    "dataset = xr.Dataset(input_parameters)\n",
    "repo = git.Repo(search_parent_directories=True)\n",
    "sha = repo.head.commit.hexsha\n",
    "short_sha = repo.git.rev_parse(sha, short=True)"
   ]
  },
  {
   "cell_type": "code",
   "execution_count": null,
   "metadata": {},
   "outputs": [],
   "source": [
    "print(list(dataset.keys()))"
   ]
  },
  {
   "cell_type": "code",
   "execution_count": null,
   "metadata": {},
   "outputs": [],
   "source": [
    "confinement_names = ConfinementScaling._member_map_.keys()\n",
    "select_confinement = pn.widgets.Select(name=\"Confinement Scaling\", options=list(confinement_names)).servable(target=\"sidebar\")"
   ]
  },
  {
   "cell_type": "code",
   "execution_count": null,
   "metadata": {},
   "outputs": [],
   "source": [
    "def build_sliders(gui_config: dict, target: str) -> List[pn.widgets.FloatSlider]:\n",
    "    sliders = {}\n",
    "    units = {}\n",
    "    for slide_conf in gui_config[\"sliders\"]:\n",
    "        slider = pn.widgets.FloatSlider(\n",
    "            name=slide_conf[\"name\"],\n",
    "            start=slide_conf[\"start\"],\n",
    "            end=slide_conf[\"end\"],\n",
    "            value=slide_conf[\"default\"],\n",
    "            step=slide_conf[\"step_size\"],\n",
    "        ).servable(target=target)\n",
    "        sliders[slide_conf[\"name\"]] = slider.param.value_throttled\n",
    "        units[slide_conf[\"name\"]] = slide_conf[\"unit\"]\n",
    "    return sliders, units\n",
    "\n",
    "\n",
    "sliders, units = build_sliders(gui_config, \"sidebar\")"
   ]
  },
  {
   "cell_type": "code",
   "execution_count": null,
   "metadata": {},
   "outputs": [],
   "source": [
    "_, ax = plt.subplots(figsize=plot_style[\"figsize\"], dpi=plot_style[\"show_dpi\"])\n",
    "\n",
    "\n",
    "def make_plot(select_confinement: str, **kwargs):\n",
    "    dataset[\"energy_confinement_scaling\"] = ConfinementScaling._member_map_[select_confinement]\n",
    "    for key, value in kwargs.items():\n",
    "        dataset[key] = value * ureg(units[key])\n",
    "    algorithm.update_dataset(dataset, in_place=True)\n",
    "    fig, ax = cfspopcon.plotting.make_plot(dataset, plot_style, points={}, title=f\"{PROJECT_NAME} (commit: {short_sha})\", output_dir=None)\n",
    "    return pn.pane.Matplotlib(fig)\n",
    "\n",
    "\n",
    "interactive_plot = pn.param.ParamFunction(pn.bind(make_plot, select_confinement=select_confinement, **sliders), loading_indicator=True)\n",
    "app = pn.Column(interactive_plot)\n",
    "app.servable(target=\"main\")"
   ]
  }
 ],
 "metadata": {
  "kernelspec": {
   "display_name": ".venv",
   "language": "python",
   "name": "python3"
  },
  "language_info": {
   "codemirror_mode": {
    "name": "ipython",
    "version": 3
   },
   "file_extension": ".py",
   "mimetype": "text/x-python",
   "name": "python",
   "nbconvert_exporter": "python",
   "pygments_lexer": "ipython3",
   "version": "3.10.12"
  }
 },
 "nbformat": 4,
 "nbformat_minor": 2
}

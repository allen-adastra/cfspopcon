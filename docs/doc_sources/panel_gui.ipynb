{
 "cells": [
  {
   "cell_type": "code",
   "execution_count": null,
   "metadata": {},
   "outputs": [],
   "source": [
    "import matplotlib.pyplot as plt\n",
    "import panel as pn\n",
    "\n",
    "pn.extension(template=\"fast\")\n",
    "pn.config.comms = \"ipywidgets\"\n",
    "import xarray as xr\n",
    "\n",
    "import cfspopcon\n",
    "from cfspopcon.unit_handling import ureg\n",
    "from cfspopcon.named_options import ConfinementScaling, Impurity\n",
    "import yaml\n",
    "from typing import List\n",
    "import git\n",
    "from bokeh.models.formatters import PrintfTickFormatter\n",
    "\n",
    "\n",
    "PROJECT_NAME = \"BARC\"\n",
    "PROJECT_DIR = f\"../../example_cases/{PROJECT_NAME}\"\n",
    "input_parameters, algorithm, points = cfspopcon.read_case(PROJECT_DIR)\n",
    "plot_style = cfspopcon.read_plot_style(f\"{PROJECT_DIR}/plot_popcon.yaml\")\n",
    "with open(f\"{PROJECT_DIR}/gui.yaml\", \"r\") as file:\n",
    "    gui_config = yaml.safe_load(file)\n",
    "\n",
    "algorithm.validate_inputs(input_parameters)\n",
    "dataset = xr.Dataset(input_parameters)\n",
    "repo = git.Repo(search_parent_directories=True)\n",
    "sha = repo.head.commit.hexsha\n",
    "short_sha = repo.git.rev_parse(sha, short=True)"
   ]
  },
  {
   "cell_type": "code",
   "execution_count": null,
   "metadata": {},
   "outputs": [],
   "source": [
    "confinement_names = ConfinementScaling._member_map_.keys()\n",
    "select_confinement = pn.widgets.Select(name=\"Confinement Scaling\", options=list(confinement_names)).servable(target=\"sidebar\")"
   ]
  },
  {
   "cell_type": "code",
   "execution_count": null,
   "metadata": {},
   "outputs": [],
   "source": [
    "def build_sliders(gui_config: dict, target: str) -> List[pn.widgets.FloatSlider]:\n",
    "    sliders = {}\n",
    "    units = {}\n",
    "    for slide_conf in gui_config[\"sliders\"]:\n",
    "        dataset[slide_conf[\"name\"]] = dataset[slide_conf[\"name\"]].astype(float)\n",
    "        slider = pn.widgets.FloatSlider(\n",
    "            name=slide_conf[\"name\"],\n",
    "            start=slide_conf[\"start\"],\n",
    "            end=slide_conf[\"end\"],\n",
    "            value=float(dataset[slide_conf[\"name\"]].pint.to(slide_conf[\"unit\"]).values),\n",
    "            step=slide_conf[\"step_size\"],\n",
    "        ).servable(target=target)\n",
    "        sliders[slide_conf[\"name\"]] = slider.param.value_throttled\n",
    "        units[slide_conf[\"name\"]] = slide_conf[\"unit\"]\n",
    "    return sliders, units\n",
    "\n",
    "impurity_names = [imp.name for imp in input_parameters['impurities'].dim_species.values]\n",
    "\n",
    "def build_impurity_sliders(gui_config: dict):\n",
    "    def build_impurity_slider(imp_config: dict):\n",
    "        imp_name = imp_config[\"name\"]\n",
    "        initial_value = dataset['impurities'].sel(dim_species=Impurity._member_map_[imp_name]).values\n",
    "        slider = pn.widgets.FloatSlider(name=imp_name,\n",
    "                                        start=float(imp_config[\"start\"]), \n",
    "                                        end=float(imp_config[\"end\"]), \n",
    "                                        step=float(imp_config[\"step_size\"]), \n",
    "                                        value=float(initial_value), \n",
    "                                        format=PrintfTickFormatter(format=\"%.2e\")).servable(target=\"sidebar\")\n",
    "        return slider.param.value_throttled\n",
    "    \n",
    "    sliders = {}\n",
    "    units = {}\n",
    "    for imp_config in gui_config[\"impurity_concentration_sliders\"]:\n",
    "        imp_name = imp_config[\"name\"]\n",
    "        sliders[imp_name] = build_impurity_slider(imp_config)\n",
    "        units[imp_name] = \"\"\n",
    "    return sliders, units\n",
    "\n",
    "sliders, units = build_sliders(gui_config, \"sidebar\")\n",
    "imp_sliders, imp_units = build_impurity_sliders(gui_config)\n",
    "sliders = {**sliders, **imp_sliders}\n",
    "units = {**units, **imp_units}"
   ]
  },
  {
   "cell_type": "code",
   "execution_count": null,
   "metadata": {},
   "outputs": [],
   "source": [
    "_, ax = plt.subplots(figsize=plot_style[\"figsize\"], dpi=plot_style[\"show_dpi\"])\n",
    "\n",
    "\n",
    "def make_plot(select_confinement: str, **kwargs):\n",
    "    dataset[\"energy_confinement_scaling\"] = ConfinementScaling._member_map_[select_confinement]\n",
    "    for key, value in kwargs.items():\n",
    "        if key in imp_sliders.keys():\n",
    "            key_value = Impurity._member_map_[key]\n",
    "            dataset['impurities'].loc[dict(dim_species=key_value)] = value * ureg(units[key])\n",
    "        else:\n",
    "            dataset[key] = value * ureg(units[key])\n",
    "    algorithm.update_dataset(dataset, in_place=True)\n",
    "    fig, ax = cfspopcon.plotting.make_plot(dataset, plot_style, points={}, title=f\"{PROJECT_NAME} (commit: {short_sha})\", output_dir=None)\n",
    "    return pn.pane.Matplotlib(fig)\n",
    "\n",
    "\n",
    "interactive_plot = pn.param.ParamFunction(pn.bind(make_plot, select_confinement=select_confinement, **sliders), loading_indicator=True)\n",
    "app = pn.Column(interactive_plot)\n",
    "app.servable(target=\"main\")"
   ]
  }
 ],
 "metadata": {
  "kernelspec": {
   "display_name": ".venv",
   "language": "python",
   "name": "python3"
  },
  "language_info": {
   "codemirror_mode": {
    "name": "ipython",
    "version": 3
   },
   "file_extension": ".py",
   "mimetype": "text/x-python",
   "name": "python",
   "nbconvert_exporter": "python",
   "pygments_lexer": "ipython3",
   "version": "3.10.12"
  }
 },
 "nbformat": 4,
 "nbformat_minor": 2
}
